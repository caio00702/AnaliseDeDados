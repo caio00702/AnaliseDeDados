{
  "nbformat": 4,
  "nbformat_minor": 0,
  "metadata": {
    "colab": {
      "provenance": [],
      "include_colab_link": true
    },
    "kernelspec": {
      "name": "python3",
      "display_name": "Python 3"
    },
    "language_info": {
      "name": "python"
    }
  },
  "cells": [
    {
      "cell_type": "markdown",
      "metadata": {
        "id": "view-in-github",
        "colab_type": "text"
      },
      "source": [
        "<a href=\"https://colab.research.google.com/github/caio00702/AnaliseDeDados/blob/main/IoT_Automa%C3%A7%C3%A3o.ipynb\" target=\"_parent\"><img src=\"https://colab.research.google.com/assets/colab-badge.svg\" alt=\"Open In Colab\"/></a>"
      ]
    },
    {
      "cell_type": "code",
      "execution_count": 2,
      "metadata": {
        "id": "XFD3jBolCLsV",
        "outputId": "cec1e5ac-02a8-41d7-ac68-f185d339c625",
        "colab": {
          "base_uri": "https://localhost:8080/",
          "height": 393
        }
      },
      "outputs": [
        {
          "output_type": "stream",
          "name": "stdout",
          "text": [
            "testando\n"
          ]
        },
        {
          "output_type": "error",
          "ename": "ModuleNotFoundError",
          "evalue": "ignored",
          "traceback": [
            "\u001b[0;31m---------------------------------------------------------------------------\u001b[0m",
            "\u001b[0;31mModuleNotFoundError\u001b[0m                       Traceback (most recent call last)",
            "\u001b[0;32m<ipython-input-2-56a4703a8b60>\u001b[0m in \u001b[0;36m<module>\u001b[0;34m\u001b[0m\n\u001b[1;32m      1\u001b[0m \u001b[0mprint\u001b[0m\u001b[0;34m(\u001b[0m\u001b[0;34m\"testando\"\u001b[0m\u001b[0;34m)\u001b[0m\u001b[0;34m\u001b[0m\u001b[0;34m\u001b[0m\u001b[0m\n\u001b[1;32m      2\u001b[0m \u001b[0;34m\u001b[0m\u001b[0m\n\u001b[0;32m----> 3\u001b[0;31m \u001b[0;32mimport\u001b[0m \u001b[0mspeech_recognition\u001b[0m \u001b[0;32mas\u001b[0m \u001b[0msr\u001b[0m\u001b[0;34m\u001b[0m\u001b[0;34m\u001b[0m\u001b[0m\n\u001b[0m\u001b[1;32m      4\u001b[0m \u001b[0;34m\u001b[0m\u001b[0m\n\u001b[1;32m      5\u001b[0m \u001b[0;32mimport\u001b[0m \u001b[0mos\u001b[0m\u001b[0;34m\u001b[0m\u001b[0;34m\u001b[0m\u001b[0m\n",
            "\u001b[0;31mModuleNotFoundError\u001b[0m: No module named 'speech_recognition'",
            "",
            "\u001b[0;31m---------------------------------------------------------------------------\u001b[0;32m\nNOTE: If your import is failing due to a missing package, you can\nmanually install dependencies using either !pip or !apt.\n\nTo view examples of installing some common dependencies, click the\n\"Open Examples\" button below.\n\u001b[0;31m---------------------------------------------------------------------------\u001b[0m\n"
          ],
          "errorDetails": {
            "actions": [
              {
                "action": "open_url",
                "actionText": "Open Examples",
                "url": "/notebooks/snippets/importing_libraries.ipynb"
              }
            ]
          }
        }
      ],
      "source": [
        "print(\"testando\")\n",
        "\n",
        "import speech_recognition as sr\n",
        "\n",
        "import os\n",
        "\n",
        "\n",
        "#Função para ouvir e reconhecer a fala\n",
        "def ouvir_microfone():\n",
        "    #Habilita o microfone do usuário\n",
        "    microfone = sr.Recognizer()\n",
        "    \n",
        "    #usando o microfone\n",
        "    with sr.Microphone() as source:\n",
        "        \n",
        "        #Chama um algoritmo de reducao de ruidos no som\n",
        "        microfone.adjust_for_ambient_noise(source)\n",
        "        \n",
        "        #Frase para o usuario dizer algo\n",
        "        print(\"Diga alguma coisa: \")\n",
        "        \n",
        "        #Armazena o que foi dito numa variavel\n",
        "        audio = microfone.listen(source)\n",
        "        \n",
        "    try:\n",
        "        \n",
        "        #Passa a variável para o algoritmo reconhecedor de padroes\n",
        "        frase = microfone.recognize_google(audio,language='pt-BR')\n",
        "\n",
        "        if \"navegador\" in frase:\n",
        "            os.system(\"start Chrome.exe\")\n",
        "\n",
        "        elif \"Excel\" in frase:\n",
        "            os.system(\"start Excel.exe\")\n",
        "        \n",
        "        #Retorna a frase pronunciada\n",
        "        print(\"Você disse: \" + frase)\n",
        "        \n",
        "    #Se nao reconheceu o padrao de fala, exibe a mensagem\n",
        "    except sr.UnkownValueError:\n",
        "        print(\"Não entendi\")\n",
        "        \n",
        "    return frase\n",
        "\n",
        "ouvir_microfone()\n"
      ]
    }
  ]
}